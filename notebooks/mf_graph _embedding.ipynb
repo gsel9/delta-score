{
 "cells": [
  {
   "cell_type": "code",
   "execution_count": null,
   "metadata": {},
   "outputs": [],
   "source": [
    "# * Learnig a graph embedding that also captures shifts.\n",
    "# https://casmodeling.springeropen.com/articles/10.1186/s40294-016-0034-7\n",
    "# * Formulate the graph learning problems as one consice optimization problem.\n",
    "# * Solve using TensorFlow.\n",
    "# * Can have encoder network to get the embedding\n",
    "# * since cross-correlation is so similar to convolution is should be possible to do batch-wise cross-correlation \n",
    "#   in tensorflow to align the profiles. then we can run a gaussian kernel and maybe do some projection on top\n",
    "# * Can have synthetic control in neural network "
   ]
  }
 ],
 "metadata": {
  "kernelspec": {
   "display_name": "Python 3",
   "language": "python",
   "name": "python3"
  },
  "language_info": {
   "codemirror_mode": {
    "name": "ipython",
    "version": 3
   },
   "file_extension": ".py",
   "mimetype": "text/x-python",
   "name": "python",
   "nbconvert_exporter": "python",
   "pygments_lexer": "ipython3",
   "version": "3.7.4"
  }
 },
 "nbformat": 4,
 "nbformat_minor": 2
}
