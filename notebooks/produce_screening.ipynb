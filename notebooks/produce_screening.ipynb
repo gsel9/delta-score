{
 "cells": [
  {
   "cell_type": "markdown",
   "metadata": {},
   "source": [
    "# Process screening data"
   ]
  },
  {
   "cell_type": "code",
   "execution_count": 1,
   "metadata": {},
   "outputs": [
    {
     "ename": "ModuleNotFoundError",
     "evalue": "No module named 'h5py'",
     "output_type": "error",
     "traceback": [
      "\u001B[0;31m---------------------------------------------------------------------------\u001B[0m",
      "\u001B[0;31mModuleNotFoundError\u001B[0m                       Traceback (most recent call last)",
      "\u001B[0;32m<ipython-input-1-69c8cd3d9827>\u001B[0m in \u001B[0;36m<module>\u001B[0;34m\u001B[0m\n\u001B[1;32m      9\u001B[0m \u001B[0;32mfrom\u001B[0m \u001B[0mplotting\u001B[0m \u001B[0;32mimport\u001B[0m \u001B[0mplot_profile\u001B[0m\u001B[0;34m,\u001B[0m \u001B[0mplot_hmap\u001B[0m\u001B[0;34m\u001B[0m\u001B[0;34m\u001B[0m\u001B[0m\n\u001B[1;32m     10\u001B[0m \u001B[0;32mfrom\u001B[0m \u001B[0msplitting\u001B[0m \u001B[0;32mimport\u001B[0m \u001B[0mtrain_val_split\u001B[0m\u001B[0;34m\u001B[0m\u001B[0;34m\u001B[0m\u001B[0m\n\u001B[0;32m---> 11\u001B[0;31m \u001B[0;32mfrom\u001B[0m \u001B[0mscreening_data_generator\u001B[0m\u001B[0;34m.\u001B[0m\u001B[0mfrom_file\u001B[0m \u001B[0;32mimport\u001B[0m \u001B[0mmatlab_to_ndarray\u001B[0m\u001B[0;34m\u001B[0m\u001B[0;34m\u001B[0m\u001B[0m\n\u001B[0m\u001B[1;32m     12\u001B[0m \u001B[0;34m\u001B[0m\u001B[0m\n\u001B[1;32m     13\u001B[0m \u001B[0mget_ipython\u001B[0m\u001B[0;34m(\u001B[0m\u001B[0;34m)\u001B[0m\u001B[0;34m.\u001B[0m\u001B[0mrun_line_magic\u001B[0m\u001B[0;34m(\u001B[0m\u001B[0;34m'matplotlib'\u001B[0m\u001B[0;34m,\u001B[0m \u001B[0;34m'inline'\u001B[0m\u001B[0;34m)\u001B[0m\u001B[0;34m\u001B[0m\u001B[0;34m\u001B[0m\u001B[0m\n",
      "\u001B[0;32m~/PycharmProjects/cancer_project/data_generators/src/screening_data_generator/from_file.py\u001B[0m in \u001B[0;36m<module>\u001B[0;34m\u001B[0m\n\u001B[1;32m      4\u001B[0m \u001B[0;32mimport\u001B[0m \u001B[0mnumpy\u001B[0m \u001B[0;32mas\u001B[0m \u001B[0mnp\u001B[0m\u001B[0;34m\u001B[0m\u001B[0;34m\u001B[0m\u001B[0m\n\u001B[1;32m      5\u001B[0m \u001B[0;32mimport\u001B[0m \u001B[0mscipy\u001B[0m\u001B[0;34m.\u001B[0m\u001B[0msparse\u001B[0m \u001B[0;32mas\u001B[0m \u001B[0msp\u001B[0m\u001B[0;34m\u001B[0m\u001B[0;34m\u001B[0m\u001B[0m\n\u001B[0;32m----> 6\u001B[0;31m \u001B[0;32mimport\u001B[0m \u001B[0mh5py\u001B[0m\u001B[0;34m\u001B[0m\u001B[0;34m\u001B[0m\u001B[0m\n\u001B[0m\u001B[1;32m      7\u001B[0m \u001B[0;34m\u001B[0m\u001B[0m\n\u001B[1;32m      8\u001B[0m \u001B[0;34m\u001B[0m\u001B[0m\n",
      "\u001B[0;31mModuleNotFoundError\u001B[0m: No module named 'h5py'"
     ]
    }
   ],
   "source": [
    "import sys\n",
    "sys.path.append(\"../src/\")\n",
    "\n",
    "import numpy as np\n",
    "\n",
    "import matplotlib.pyplot as plt\n",
    "\n",
    "from mask import simulate_mask\n",
    "from plotting import plot_profile, plot_hmap\n",
    "from splitting import train_val_split\n",
    "from screening_data_generator.from_file import matlab_to_ndarray\n",
    "\n",
    "%matplotlib inline"
   ]
  },
  {
   "cell_type": "code",
   "execution_count": null,
   "metadata": {},
   "outputs": [],
   "source": [
    "SEED = 42\n",
    "\n",
    "# Location where data matrix and masks will be stored.\n",
    "PATH_TO_DATA = \"/Users/sela/Desktop/recsys/data/screening_data/\""
   ]
  },
  {
   "cell_type": "markdown",
   "metadata": {},
   "source": [
    "# Load screening data from file"
   ]
  },
  {
   "cell_type": "code",
   "execution_count": null,
   "metadata": {},
   "outputs": [],
   "source": [
    "# Load screening data from matlab file into numpy array.\n",
    "X = matlab_to_ndarray(\"/Users/sela/phd/data/real/data_matrix_3m.mat\", \"X\")"
   ]
  },
  {
   "cell_type": "markdown",
   "metadata": {},
   "source": [
    "# Training and validation sets"
   ]
  },
  {
   "cell_type": "code",
   "execution_count": null,
   "metadata": {},
   "outputs": [],
   "source": [
    "prediction_window = 4\n",
    "\n",
    "O_train, O_val, valid_rows = train_val_split(X, prediction_window, method='last_observed', \n",
    "                                             return_valid_rows=True, seed=SEED)\n",
    "\n",
    "X = X[valid_rows, :]\n",
    "O_val = O_val[valid_rows, :]\n",
    "O_train = O_train[valid_rows, :]\n",
    "\n",
    "X_val = X * O_val\n",
    "X_train = X * O_train\n",
    "\n",
    "# NB: Quantifies density of profiles and not the complete matrix.\n",
    "train_density = []\n",
    "for row in X_train:\n",
    "    last_train_idx = np.argmax(np.cumsum(row))\n",
    "    train_density.append(np.count_nonzero(row[:last_train_idx]) / row[:last_train_idx].size)\n",
    "\n",
    "print(np.mean(train_density))"
   ]
  },
  {
   "cell_type": "markdown",
   "metadata": {},
   "source": [
    "# Inspect"
   ]
  },
  {
   "cell_type": "code",
   "execution_count": null,
   "metadata": {},
   "outputs": [],
   "source": [
    "_, axes = plt.subplots(nrows=3, ncols=3, figsize=(10, 10))\n",
    "for num, axis in enumerate(axes.ravel()):\n",
    "    \n",
    "    # Add plot to figure.\n",
    "    plot_profile(X_train[num], axis, show=False, label='Training')\n",
    "    plot_profile(X_val[num], axis, show=False, label='Validation')\n",
    "    \n",
    "    axis.legend()"
   ]
  },
  {
   "cell_type": "code",
   "execution_count": null,
   "metadata": {},
   "outputs": [],
   "source": [
    "fig = plt.figure(figsize=(8, 8))\n",
    "plt.title(\"Validation scores\", fontsize=20)\n",
    "plot_hmap(fig, X_val)\n",
    "\n",
    "vals, cnts = np.unique(X_val[X_val != 0], return_counts=True)\n",
    "print('States:', vals)\n",
    "print('Counts:', cnts)\n",
    "\n",
    "# Sanity check.\n",
    "print('Number of all-zero profiles:', len(np.squeeze(np.where(np.sum(X_val, axis=1) == 0))))"
   ]
  },
  {
   "cell_type": "code",
   "execution_count": null,
   "metadata": {},
   "outputs": [],
   "source": [
    "fig = plt.figure(figsize=(8, 8))\n",
    "plt.title(\"Training scores\", fontsize=20)\n",
    "plot_hmap(fig, X_train)\n",
    "\n",
    "vals, cnts = np.unique(X_train[X_train != 0], return_counts=True)\n",
    "print('States:', vals)\n",
    "print('Counts:', cnts)\n",
    "\n",
    "# Sanity check.\n",
    "print('Number of all-zero profiles:', len(np.squeeze(np.where(np.sum(X_train, axis=1) == 0))))"
   ]
  },
  {
   "cell_type": "markdown",
   "metadata": {},
   "source": [
    "# Save data to disk"
   ]
  },
  {
   "cell_type": "code",
   "execution_count": null,
   "metadata": {},
   "outputs": [],
   "source": [
    "np.save(f'{PATH_TO_DATA}/X.npy', X)\n",
    "np.save(f'{PATH_TO_DATA}/O_val.npy', O_val)\n",
    "np.save(f'{PATH_TO_DATA}/O_train.npy', O_train)"
   ]
  }
 ],
 "metadata": {
  "kernelspec": {
   "display_name": "Python 3",
   "language": "python",
   "name": "python3"
  },
  "language_info": {
   "codemirror_mode": {
    "name": "ipython",
    "version": 3
   },
   "file_extension": ".py",
   "mimetype": "text/x-python",
   "name": "python",
   "nbconvert_exporter": "python",
   "pygments_lexer": "ipython3",
   "version": "3.7.4"
  }
 },
 "nbformat": 4,
 "nbformat_minor": 2
}