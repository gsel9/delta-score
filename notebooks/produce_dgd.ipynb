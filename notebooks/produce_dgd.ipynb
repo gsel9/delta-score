{
 "cells": [
  {
   "cell_type": "markdown",
   "metadata": {},
   "source": [
    "# Produce synthetic discrete gaussian data"
   ]
  },
  {
   "cell_type": "code",
   "execution_count": null,
   "metadata": {},
   "outputs": [],
   "source": [
    "import sys\n",
    "sys.path.append(\"../src/\")\n",
    "\n",
    "import numpy as np\n",
    "\n",
    "import matplotlib.pyplot as plt\n",
    "\n",
    "from mask import simulate_mask\n",
    "from plotting import plot_profile, plot_hmap\n",
    "from splitting import train_val_split\n",
    "\n",
    "from dgd_data_generator import (\n",
    "    simulate_float_from_named_basis,\n",
    "    simulate_dgd\n",
    ")\n",
    "\n",
    "%matplotlib inline"
   ]
  },
  {
   "cell_type": "code",
   "execution_count": null,
   "metadata": {},
   "outputs": [],
   "source": [
    "SEED = 42\n",
    "\n",
    "# Location where data matrix and masks will be stored.\n",
    "PATH_TO_DATA = \"/Users/sela/Desktop/recsys/data/gd_data/100p_test_gdl/\"\n",
    "\n",
    "# To truncate profiles at empirical dropout times. The file contains a probbaility \n",
    "# vector where each entry of the vector holds a  probability that the female will never be \n",
    "# screened again.\n",
    "PATH_TO_DROPOUT = '/Users/sela/phd/data/real/Pdropout_2Krandom.npy'"
   ]
  },
  {
   "cell_type": "markdown",
   "metadata": {},
   "source": [
    "# Synthesize complete profiles"
   ]
  },
  {
   "cell_type": "code",
   "execution_count": null,
   "metadata": {},
   "outputs": [],
   "source": [
    "M = simulate_float_from_named_basis(\n",
    "    basis_name='simple_peaks', \n",
    "    N=38400, \n",
    "    T=321, \n",
    "    K=5, \n",
    "    domain=[1, 4], \n",
    "    random_state=SEED\n",
    ")\n",
    "\n",
    "D = simulate_dgd(\n",
    "    M, \n",
    "    domain_z=np.arange(1, 5),\n",
    "    theta=2.5,\n",
    "    random_state=SEED\n",
    ")"
   ]
  },
  {
   "cell_type": "markdown",
   "metadata": {},
   "source": [
    "# Sparsening"
   ]
  },
  {
   "cell_type": "code",
   "execution_count": null,
   "metadata": {},
   "outputs": [],
   "source": [
    "# Mask level per training density\n",
    "# * 100%: 100\n",
    "# * 80%: 3.5 \n",
    "# * 50%: 2.08\n",
    "# * 20%: 1.1 (NB: Set N = 38400 since some rows are all-zero.)\n",
    "# * 10%: 0.7 (NB: Set N = 40100 since some rows are all-zero.)\n",
    "# * 5%: 0.41 (NB: Set N = 47500 since some rows are all-zero.)\n",
    "# * 3%: \n",
    "\n",
    "mask = simulate_mask(\n",
    "    D,\n",
    "    screening_proba=np.array([0.05, 0.15, 0.40, 0.60, 0.20]),\n",
    "    memory_length=10,\n",
    "    level=1.1,\n",
    "    path_dropout=PATH_TO_DROPOUT,\n",
    "    random_state=SEED\n",
    ")\n",
    "\n",
    "# NB: Need mask for dropout.\n",
    "X = D * mask"
   ]
  },
  {
   "cell_type": "markdown",
   "metadata": {},
   "source": [
    "# Training and validation sets"
   ]
  },
  {
   "cell_type": "code",
   "execution_count": null,
   "metadata": {},
   "outputs": [],
   "source": [
    "def profile_density(Z):\n",
    "    \n",
    "    densities = 0\n",
    "    for num, row in enumerate(Z):\n",
    "    \n",
    "        z_tr = row[:np.argmax(np.cumsum(row))]\n",
    "    \n",
    "        densities += np.count_nonzero(z_tr) / z_tr.size\n",
    "    \n",
    "    # Average matrix density wrt. profiles.\n",
    "    print(densities / (num + 1))"
   ]
  },
  {
   "cell_type": "code",
   "execution_count": null,
   "metadata": {},
   "outputs": [],
   "source": [
    "prediction_window = 4\n",
    "\n",
    "O_train, O_val, valid_rows = train_val_split(X, prediction_window, method='last_observed', return_valid_rows=True,\n",
    "                                             seed=SEED)\n",
    "\n",
    "Mv = M[valid_rows, :]\n",
    "Xv = X[valid_rows, :]\n",
    "Ov_val = O_val[valid_rows, :]\n",
    "Ov_train = O_train[valid_rows, :]\n",
    "\n",
    "print(np.shape(Xv))\n",
    "\n",
    "X_val = Xv * Ov_val\n",
    "X_train = Xv * Ov_train\n",
    "\n",
    "# NB: Compute density of only profiles and not the complete matrix.\n",
    "profile_density(X_train)"
   ]
  },
  {
   "cell_type": "markdown",
   "metadata": {},
   "source": [
    "# Inspect"
   ]
  },
  {
   "cell_type": "code",
   "execution_count": null,
   "metadata": {},
   "outputs": [],
   "source": [
    "_, axes = plt.subplots(nrows=3, ncols=3, figsize=(10, 10))\n",
    "for num, axis in enumerate(axes.ravel()):\n",
    "    \n",
    "    # Add plot to figure.\n",
    "    plot_profile(X_train[num], axis, show=False, label='Training')\n",
    "    plot_profile(X_val[num], axis, show=False, label='Validation')\n",
    "    \n",
    "    axis.legend()"
   ]
  },
  {
   "cell_type": "code",
   "execution_count": null,
   "metadata": {},
   "outputs": [],
   "source": [
    "fig = plt.figure(figsize=(8, 8))\n",
    "plt.title(\"Validation scores\", fontsize=20)\n",
    "plot_hmap(fig, X_val)\n",
    "\n",
    "vals, cnts = np.unique(X_val[X_val != 0], return_counts=True)\n",
    "print('States:', vals)\n",
    "print('Counts:', cnts)\n",
    "\n",
    "# Sanity check.\n",
    "print('Number of all-zero profiles:', len(np.squeeze(np.where(np.sum(X_val, axis=1) == 0))))"
   ]
  },
  {
   "cell_type": "code",
   "execution_count": null,
   "metadata": {},
   "outputs": [],
   "source": [
    "fig = plt.figure(figsize=(8, 8))\n",
    "plt.title(\"Training scores\", fontsize=20)\n",
    "plot_hmap(fig, X_train)\n",
    "\n",
    "vals, cnts = np.unique(X_train[X_train != 0], return_counts=True)\n",
    "print('States:', vals)\n",
    "print('Counts:', cnts)\n",
    "\n",
    "# Sanity check.\n",
    "print('Number of all-zero profiles:', len(np.squeeze(np.where(np.sum(X_train, axis=1) == 0))))"
   ]
  },
  {
   "cell_type": "markdown",
   "metadata": {},
   "source": [
    "# Save data to disk"
   ]
  },
  {
   "cell_type": "code",
   "execution_count": null,
   "metadata": {},
   "outputs": [],
   "source": [
    "np.save(f'{PATH_TO_DATA}/M.npy', Mv)\n",
    "np.save(f'{PATH_TO_DATA}/X.npy', Xv)\n",
    "np.save(f'{PATH_TO_DATA}/O_val.npy', Ov_val)\n",
    "np.save(f'{PATH_TO_DATA}/O_train.npy', Ov_train)"
   ]
  },
  {
   "cell_type": "code",
   "execution_count": null,
   "metadata": {},
   "outputs": [],
   "source": []
  }
 ],
 "metadata": {
  "kernelspec": {
   "display_name": "Python 3",
   "language": "python",
   "name": "python3"
  },
  "language_info": {
   "codemirror_mode": {
    "name": "ipython",
    "version": 3
   },
   "file_extension": ".py",
   "mimetype": "text/x-python",
   "name": "python",
   "nbconvert_exporter": "python",
   "pygments_lexer": "ipython3",
   "version": "3.7.4"
  }
 },
 "nbformat": 4,
 "nbformat_minor": 4
}
