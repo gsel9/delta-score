{
 "cells": [
  {
   "cell_type": "markdown",
   "metadata": {},
   "source": [
    "# Produce synthetic HMM data"
   ]
  },
  {
   "cell_type": "code",
   "execution_count": 1,
   "metadata": {},
   "outputs": [
    {
     "ename": "ModuleNotFoundError",
     "evalue": "No module named 'transition'",
     "output_type": "error",
     "traceback": [
      "\u001B[0;31m---------------------------------------------------------------------------\u001B[0m",
      "\u001B[0;31mModuleNotFoundError\u001B[0m                       Traceback (most recent call last)",
      "\u001B[0;32m<ipython-input-1-9424b77031a5>\u001B[0m in \u001B[0;36m<module>\u001B[0;34m\u001B[0m\n\u001B[1;32m     12\u001B[0m \u001B[0;32mfrom\u001B[0m \u001B[0msplitting\u001B[0m \u001B[0;32mimport\u001B[0m \u001B[0mtrain_val_split\u001B[0m\u001B[0;34m\u001B[0m\u001B[0;34m\u001B[0m\u001B[0m\n\u001B[1;32m     13\u001B[0m \u001B[0;34m\u001B[0m\u001B[0m\n\u001B[0;32m---> 14\u001B[0;31m \u001B[0;32mfrom\u001B[0m \u001B[0mhmm_data_generator\u001B[0m\u001B[0;34m.\u001B[0m\u001B[0mhmm_generator\u001B[0m \u001B[0;32mimport\u001B[0m \u001B[0msimulate_profile\u001B[0m\u001B[0;34m\u001B[0m\u001B[0;34m\u001B[0m\u001B[0m\n\u001B[0m\u001B[1;32m     15\u001B[0m \u001B[0;34m\u001B[0m\u001B[0m\n\u001B[1;32m     16\u001B[0m \u001B[0mget_ipython\u001B[0m\u001B[0;34m(\u001B[0m\u001B[0;34m)\u001B[0m\u001B[0;34m.\u001B[0m\u001B[0mrun_line_magic\u001B[0m\u001B[0;34m(\u001B[0m\u001B[0;34m'matplotlib'\u001B[0m\u001B[0;34m,\u001B[0m \u001B[0;34m'inline'\u001B[0m\u001B[0;34m)\u001B[0m\u001B[0;34m\u001B[0m\u001B[0;34m\u001B[0m\u001B[0m\n",
      "\u001B[0;32m~/PycharmProjects/cancer_project/data_generators/src/hmm_data_generator/hmm_generator.py\u001B[0m in \u001B[0;36m<module>\u001B[0;34m\u001B[0m\n\u001B[1;32m      4\u001B[0m \u001B[0;32mimport\u001B[0m \u001B[0mmatplotlib\u001B[0m\u001B[0;34m.\u001B[0m\u001B[0mpyplot\u001B[0m \u001B[0;32mas\u001B[0m \u001B[0mplt\u001B[0m\u001B[0;34m\u001B[0m\u001B[0;34m\u001B[0m\u001B[0m\n\u001B[1;32m      5\u001B[0m \u001B[0;34m\u001B[0m\u001B[0m\n\u001B[0;32m----> 6\u001B[0;31m \u001B[0;32mfrom\u001B[0m \u001B[0mtransition\u001B[0m \u001B[0;32mimport\u001B[0m \u001B[0mnext_state\u001B[0m\u001B[0;34m,\u001B[0m \u001B[0minital_state\u001B[0m\u001B[0;34m\u001B[0m\u001B[0;34m\u001B[0m\u001B[0m\n\u001B[0m\u001B[1;32m      7\u001B[0m \u001B[0;32mfrom\u001B[0m \u001B[0msojourn\u001B[0m \u001B[0;32mimport\u001B[0m \u001B[0mtime_exit_state\u001B[0m\u001B[0;34m\u001B[0m\u001B[0;34m\u001B[0m\u001B[0m\n\u001B[1;32m      8\u001B[0m \u001B[0;34m\u001B[0m\u001B[0m\n",
      "\u001B[0;31mModuleNotFoundError\u001B[0m: No module named 'transition'"
     ]
    }
   ],
   "source": [
    "import sys\n",
    "sys.path.append(\"../src/\")\n",
    "\n",
    "from tqdm import tqdm\n",
    "\n",
    "import numpy as np\n",
    "\n",
    "import matplotlib.pyplot as plt\n",
    "\n",
    "from mask import simulate_mask\n",
    "from plotting import plot_profile, plot_hmap\n",
    "from splitting import train_val_split\n",
    "\n",
    "from hmm_data_generator.hmm_generator import simulate_profile\n",
    "\n",
    "%matplotlib inline"
   ]
  },
  {
   "cell_type": "code",
   "execution_count": null,
   "metadata": {},
   "outputs": [],
   "source": [
    "SEED = 42\n",
    "\n",
    "# Location where data matrix and masks will be stored.\n",
    "PATH_TO_DATA = \"/Users/sela/Desktop/recsys/data/hmm_data/80p\"\n",
    "\n",
    "# To truncate profiles at empirical dropout times. The file contains a probbaility \n",
    "# vector where each entry of the vector holds a  probability that the female will never be \n",
    "# screened again.\n",
    "PATH_TO_DROPOUT = '/Users/sela/phd/data/real/Pdropout_2Krandom.npy'"
   ]
  },
  {
   "cell_type": "markdown",
   "metadata": {},
   "source": [
    "## Synthesize profiles"
   ]
  },
  {
   "cell_type": "code",
   "execution_count": null,
   "metadata": {},
   "outputs": [],
   "source": [
    "# NB: `n_timepoints` must be defined equally in utils.py (see src directory).\n",
    "n_timepoints = 321\n",
    "n_samples = 38000\n",
    "\n",
    "np.random.seed(SEED)\n",
    "\n",
    "D = []\n",
    "for num in tqdm(range(n_samples)):\n",
    "\n",
    "    # Make synth screening profile.\n",
    "    d = simulate_profile(n_timepoints, 0, 321)\n",
    "    \n",
    "    if sum(d) == 0:\n",
    "        continue\n",
    "    \n",
    "    D.append(d)\n",
    "    \n",
    "D = np.array(D)\n",
    "\n",
    "print(np.shape(D))"
   ]
  },
  {
   "cell_type": "markdown",
   "metadata": {},
   "source": [
    "# Sparsening"
   ]
  },
  {
   "cell_type": "code",
   "execution_count": null,
   "metadata": {},
   "outputs": [],
   "source": [
    "# Probabilities for age at inital and final screening (16 to 96 yo divided into 321 time points) \n",
    "# derived from screening data.\n",
    "#proba_init_age = np.load('/Users/sela/phd/data/real/Pinit_screen_2Krandom.npy')\n",
    "#proba_dropout = np.load('/Users/sela/phd/data/real/Pdropout_2Krandom.npy')\n",
    "\n",
    "# Sample screenings every `stepsize` entry.\n",
    "#X = sample_screenings(X, stepsize=1, \n",
    "#                      proba_init_age=proba_init_age, \n",
    "#                      proba_dropout=proba_dropout)"
   ]
  },
  {
   "cell_type": "code",
   "execution_count": null,
   "metadata": {},
   "outputs": [],
   "source": [
    "# Mask level per training density\n",
    "# * 100%: 100\n",
    "# * 80%: 5.4\n",
    "# * 50%: \n",
    "# * 20%: \n",
    "# * 10%: \n",
    "# * 5%:\n",
    "# * 3%: \n",
    "\n",
    "mask = simulate_mask(\n",
    "    D,\n",
    "    screening_proba=np.array([0.05, 0.15, 0.40, 0.60, 0.20]),\n",
    "    memory_length=10,\n",
    "    level=5.4,\n",
    "    path_dropout=PATH_TO_DROPOUT,\n",
    "    random_state=SEED\n",
    ")\n",
    "\n",
    "# NB: Need mask for dropout.\n",
    "X = D * mask"
   ]
  },
  {
   "cell_type": "markdown",
   "metadata": {},
   "source": [
    "# Training and validation sets"
   ]
  },
  {
   "cell_type": "code",
   "execution_count": null,
   "metadata": {},
   "outputs": [],
   "source": [
    "def profile_density(Z):\n",
    "    \n",
    "    densities = 0\n",
    "    for num, row in enumerate(Z):\n",
    "    \n",
    "        z_tr = row[:np.argmax(np.cumsum(row))]\n",
    "    \n",
    "        densities += np.count_nonzero(z_tr) / z_tr.size\n",
    "    \n",
    "    # Average matrix density wrt. profiles.\n",
    "    print(densities / (num + 1))"
   ]
  },
  {
   "cell_type": "code",
   "execution_count": null,
   "metadata": {},
   "outputs": [],
   "source": [
    "prediction_window = 4\n",
    "\n",
    "O_train, O_val, valid_rows = train_val_split(X, prediction_window, method='last_observed', return_valid_rows=True,\n",
    "                                             seed=SEED)\n",
    "\n",
    "Dv = D[valid_rows, :]\n",
    "Xv = X[valid_rows, :]\n",
    "Ov_val = O_val[valid_rows, :]\n",
    "Ov_train = O_train[valid_rows, :]\n",
    "\n",
    "print(np.shape(Xv))\n",
    "\n",
    "X_val = Xv * Ov_val\n",
    "X_train = Xv * Ov_train\n",
    "\n",
    "# NB: Compute density of only profiles and not the complete matrix.\n",
    "profile_density(X_train)"
   ]
  },
  {
   "cell_type": "markdown",
   "metadata": {},
   "source": [
    "# Inspect"
   ]
  },
  {
   "cell_type": "code",
   "execution_count": null,
   "metadata": {},
   "outputs": [],
   "source": [
    "_, axes = plt.subplots(nrows=3, ncols=3, figsize=(10, 10))\n",
    "for num, axis in enumerate(axes.ravel()):\n",
    "    \n",
    "    # Add plot to figure.\n",
    "    plot_profile(X_train[num], axis, show=False, label='Training')\n",
    "    plot_profile(X_val[num], axis, show=False, label='Validation')\n",
    "    \n",
    "    axis.legend()"
   ]
  },
  {
   "cell_type": "code",
   "execution_count": null,
   "metadata": {},
   "outputs": [],
   "source": [
    "fig = plt.figure(figsize=(8, 8))\n",
    "plt.title(\"Validation scores\", fontsize=20)\n",
    "plot_hmap(fig, X_val)\n",
    "\n",
    "vals, cnts = np.unique(X_val[X_val != 0], return_counts=True)\n",
    "print('States:', vals)\n",
    "print('Counts:', cnts)\n",
    "\n",
    "# Sanity check.\n",
    "print('Number of all-zero profiles:', len(np.squeeze(np.where(np.sum(X_val, axis=1) == 0))))"
   ]
  },
  {
   "cell_type": "code",
   "execution_count": null,
   "metadata": {},
   "outputs": [],
   "source": [
    "fig = plt.figure(figsize=(8, 8))\n",
    "plt.title(\"Training scores\", fontsize=20)\n",
    "plot_hmap(fig, X_train)\n",
    "\n",
    "vals, cnts = np.unique(X_train[X_train != 0], return_counts=True)\n",
    "print('States:', vals)\n",
    "print('Counts:', cnts)\n",
    "\n",
    "# Sanity check.\n",
    "print('Number of all-zero profiles:', len(np.squeeze(np.where(np.sum(X_train, axis=1) == 0))))"
   ]
  },
  {
   "cell_type": "markdown",
   "metadata": {},
   "source": [
    "# Save data to disk"
   ]
  },
  {
   "cell_type": "code",
   "execution_count": null,
   "metadata": {},
   "outputs": [],
   "source": [
    "np.save(f'{PATH_TO_DATA}/D.npy', Dv)\n",
    "np.save(f'{PATH_TO_DATA}/X.npy', Xv)\n",
    "np.save(f'{PATH_TO_DATA}/O_val.npy', Ov_val)\n",
    "np.save(f'{PATH_TO_DATA}/O_train.npy', Ov_train)"
   ]
  },
  {
   "cell_type": "code",
   "execution_count": null,
   "metadata": {},
   "outputs": [],
   "source": []
  }
 ],
 "metadata": {
  "kernelspec": {
   "display_name": "Python 3",
   "language": "python",
   "name": "python3"
  },
  "language_info": {
   "codemirror_mode": {
    "name": "ipython",
    "version": 3
   },
   "file_extension": ".py",
   "mimetype": "text/x-python",
   "name": "python",
   "nbconvert_exporter": "python",
   "pygments_lexer": "ipython3",
   "version": "3.7.4"
  }
 },
 "nbformat": 4,
 "nbformat_minor": 2
}